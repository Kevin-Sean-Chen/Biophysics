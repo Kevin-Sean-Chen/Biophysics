{
 "cells": [
  {
   "cell_type": "code",
   "execution_count": 1,
   "metadata": {},
   "outputs": [],
   "source": [
    "import sys\n",
    "import numpy as np\n",
    "import matplotlib.pyplot as plt\n",
    "import time\n",
    "import math\n",
    "\n",
    "% matplotlib inline"
   ]
  },
  {
   "cell_type": "markdown",
   "metadata": {},
   "source": [
    "### $\\rho _ { \\pm } ( \\mathbf { x } ) = \\rho _ { 0 } \\exp \\left[ \\pm \\frac { q _ { e } \\phi ( \\mathbf { x } ) } { k _ { B } T } \\right]$\n",
    "\n",
    "### $\\nabla ^ { 2 } \\phi ( \\mathbf { x } ) = - \\frac { 1 } { \\epsilon } \\left[ Z q _ { e } \\delta ( \\mathbf { x } ) + q _ { e } \\left[ \\rho _ { + } ( \\mathbf { x } ) - \\rho _ { - } ( \\mathbf { x } ) \\right] \\right]$\n",
    "\n",
    "### $\\nabla ^ { 2 } \\phi ( \\mathbf { x } ) + \\frac { 1 } { \\lambda ^ { 2 } } \\phi ( \\mathbf { x } ) = \\frac { 1 } { \\epsilon } Z q _ { e } \\delta ( \\mathbf { x } )$"
   ]
  },
  {
   "cell_type": "code",
   "execution_count": 9,
   "metadata": {},
   "outputs": [],
   "source": [
    "ro = 100  #mM\n",
    "kBT = 4.11*10**-21  #J at rt\n",
    "qe = 1.6021  #electron charge Coulumbs\n",
    "z = 1  #one charge...\n",
    "eps = 80  #dielectric constant of water..."
   ]
  },
  {
   "cell_type": "code",
   "execution_count": 10,
   "metadata": {},
   "outputs": [],
   "source": [
    "###length scale\n",
    "lamb = qe*np.sqrt(kBT/(2*ro))"
   ]
  },
  {
   "cell_type": "code",
   "execution_count": 40,
   "metadata": {},
   "outputs": [],
   "source": [
    "###initial conditions, at r==lambda\n",
    "ph1 = qe*z/(4*np.pi*eps)*np.exp(-1)\n",
    "ph2 = 0#1/(4*np.pi*eps)*(-1/lamb**2 * np.exp(-1) - 1/(lamb**2)*np.exp(-1))\n",
    "rs = np.linspace(-10**-11,10**-10,1000)\n",
    "dr = rs[1]-rs[0]\n",
    "\n",
    "d1 = np.zeros(len(rs))  #phi\n",
    "d2 = np.zeros(len(rs))  #dphi/dr\n",
    "\n",
    "for ri in range(0,len(rs)-1):\n",
    "    d1[ri+1] = d1[ri] + d2[ri]*dr\n",
    "    rr = rs[ri]+lamb\n",
    "    d2[ri+1] = d2[ri] + dr*(-2/rr*d2[ri] + np.sinh(qe*d1[ri]/kBT) + 2*qe*ro/eps)"
   ]
  },
  {
   "cell_type": "code",
   "execution_count": 41,
   "metadata": {},
   "outputs": [
    {
     "data": {
      "text/plain": [
       "7.262656994895187e-12"
      ]
     },
     "execution_count": 41,
     "metadata": {},
     "output_type": "execute_result"
    }
   ],
   "source": [
    "lamb"
   ]
  },
  {
   "cell_type": "code",
   "execution_count": 44,
   "metadata": {},
   "outputs": [
    {
     "data": {
      "text/plain": [
       "[<matplotlib.lines.Line2D at 0x111eddd30>]"
      ]
     },
     "execution_count": 44,
     "metadata": {},
     "output_type": "execute_result"
    },
    {
     "data": {
      "image/png": "[encoded data removed]",
      "text/plain": [
       "<matplotlib.figure.Figure at 0x111b95ba8>"
      ]
     },
     "metadata": {},
     "output_type": "display_data"
    }
   ],
   "source": [
    "plt.plot(rs,d1,'-o')"
   ]
  }
 ],
 "metadata": {
  "anaconda-cloud": {},
  "kernelspec": {
   "display_name": "Python [anaconda]",
   "language": "python",
   "name": "Python [anaconda]"
  },
  "language_info": {
   "codemirror_mode": {
    "name": "ipython",
    "version": 3
   },
   "file_extension": ".py",
   "mimetype": "text/x-python",
   "name": "python",
   "nbconvert_exporter": "python",
   "pygments_lexer": "ipython3",
   "version": "3.5.2"
  }
 },
 "nbformat": 4,
 "nbformat_minor": 2
}
