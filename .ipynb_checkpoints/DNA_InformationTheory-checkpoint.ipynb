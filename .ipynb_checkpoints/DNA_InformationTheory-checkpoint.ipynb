{
 "cells": [
  {
   "cell_type": "code",
   "execution_count": 1,
   "metadata": {},
   "outputs": [],
   "source": [
    "import sys\n",
    "import numpy as np\n",
    "import matplotlib.pyplot as plt\n",
    "import time\n",
    "import math\n",
    "import itertools\n",
    "import numpy.matlib\n",
    "import re\n",
    "\n",
    "% matplotlib inline"
   ]
  },
  {
   "cell_type": "code",
   "execution_count": 2,
   "metadata": {},
   "outputs": [],
   "source": [
    "#load data\n",
    "filename = 'seqs.txt'\n",
    "with open(filename) as f:\n",
    "    data = f.readlines()"
   ]
  },
  {
   "cell_type": "code",
   "execution_count": 3,
   "metadata": {},
   "outputs": [],
   "source": [
    "#focus on 'crp-wt' strain\n",
    "focus = [f for f in data if f[:6]=='crp-wt']"
   ]
  },
  {
   "cell_type": "code",
   "execution_count": 4,
   "metadata": {},
   "outputs": [],
   "source": [
    "#identify batch and sequences\n",
    "batch = [b[7:9] for b in focus]\n",
    "genes = []\n",
    "for i,s in enumerate(focus):\n",
    "    temp = re.search(batch[i]+'(.*)\\n', focus[i])\n",
    "    genes.append(focus[i][temp.span()[0]+3:temp.span()[1]-1])"
   ]
  },
  {
   "cell_type": "code",
   "execution_count": 5,
   "metadata": {},
   "outputs": [
    {
     "name": "stdout",
     "output_type": "stream",
     "text": [
      "B0\n",
      "AATTAAGGGCAGTTAACTCACCCATTAGGCACCCCAGGCTTTACACTTTATGCTTCCGGCTCGTATGTTGTGTGG\n",
      "crp-wt\tB0\tAATTAAGGGCAGTTAACTCACCCATTAGGCACCCCAGGCTTTACACTTTATGCTTCCGGCTCGTATGTTGTGTGG\n",
      "\n"
     ]
    }
   ],
   "source": [
    "#see some example sequences\n",
    "print(batch[0])\n",
    "print(genes[0])\n",
    "print(focus[0])"
   ]
  },
  {
   "cell_type": "code",
   "execution_count": 6,
   "metadata": {},
   "outputs": [],
   "source": [
    "#build joint probability\n",
    "###count(site,batch,base)  #(made sure that all genes have the same length)\n",
    "batches = np.unique(batch)\n",
    "bases = np.array(['A','T','C','G'])\n",
    "Count = np.zeros((len(genes[0]),len(batches),4))\n",
    "for si in range(0,len(genes[0])):\n",
    "    for bi,b in enumerate(batch):\n",
    "        match_ba = np.where(b==batches)[0][0]\n",
    "        match_bp = np.where(genes[bi][si]==bases)[0][0]\n",
    "        Count[si,match_ba,match_bp] = Count[si,match_ba,match_bp]+1"
   ]
  },
  {
   "cell_type": "code",
   "execution_count": 7,
   "metadata": {
    "scrolled": true
   },
   "outputs": [
    {
     "name": "stderr",
     "output_type": "stream",
     "text": [
      "/Users/Macintosh/anaconda/lib/python3.5/site-packages/ipykernel/__main__.py:13: RuntimeWarning: divide by zero encountered in log2\n",
      "/Users/Macintosh/anaconda/lib/python3.5/site-packages/ipykernel/__main__.py:13: RuntimeWarning: invalid value encountered in double_scalars\n"
     ]
    }
   ],
   "source": [
    "#Compute probability(batch,base) and mutual information\n",
    "Pbp = np.zeros((len(batch),4))\n",
    "Ibp = np.zeros(Count.shape[0])\n",
    "for si in range(0,Count.shape[0]):\n",
    "    temp = np.squeeze(Count[si,:,:])\n",
    "    if np.sum(temp)!=0:\n",
    "        Pjoint = temp/np.sum(temp)  #P(batch,base)\n",
    "        Pb = np.sum(Pjoint,axis=1)  #P(batch)\n",
    "        Pn = np.sum(Pjoint,axis=1)  #P(base)\n",
    "    info = np.zeros(Pjoint.shape)\n",
    "    for ii in range(0,info.shape[0]):\n",
    "        for jj in range(0,info.shape[1]):\n",
    "            info[ii,jj] = Pjoint[ii,jj]*np.log2(Pjoint[ii,jj]/(Pb[ii]*Pn[jj]))\n",
    "    Ibp[si] = np.nansum(info)  #mutual information I(batch,base)"
   ]
  },
  {
   "cell_type": "code",
   "execution_count": 8,
   "metadata": {},
   "outputs": [
    {
     "data": {
      "text/plain": [
       "<matplotlib.text.Text at 0x111c8a160>"
      ]
     },
     "execution_count": 8,
     "metadata": {},
     "output_type": "execute_result"
    },
    {
     "data": {
      "image/png": "[encoded data removed]",
      "text/plain": [
       "<matplotlib.figure.Figure at 0x111ab0908>"
      ]
     },
     "metadata": {},
     "output_type": "display_data"
    }
   ],
   "source": [
    "plt.plot(Ibp)\n",
    "plt.xlabel('site')\n",
    "plt.ylabel('mutual information (I(batch,base) in bits)')"
   ]
  },
  {
   "cell_type": "markdown",
   "metadata": {},
   "source": [
    "### A control with shuffled data"
   ]
  },
  {
   "cell_type": "code",
   "execution_count": 20,
   "metadata": {},
   "outputs": [],
   "source": [
    "###shuffling!\n",
    "batches = np.unique(batch)\n",
    "bases = np.array(['A','T','C','G'])\n",
    "Count2 = np.zeros((len(genes[0]),len(batches),4))\n",
    "for si in range(0,len(genes[0])):\n",
    "    for bi,b in enumerate(batch):\n",
    "        match_ba = np.where(b==batches)[0][0]\n",
    "        #shuff = list(genes[bi])\n",
    "        #np.random.shuffle(shuff)\n",
    "        match_bp = np.random.randint(0,4)\n",
    "        #np.where(shuff[si]==bases)[0][0]\n",
    "        Count2[si,match_ba,match_bp] = Count2[si,match_ba,match_bp]+1"
   ]
  },
  {
   "cell_type": "code",
   "execution_count": 21,
   "metadata": {},
   "outputs": [],
   "source": [
    "#Compute probability(batch,base) and mutual information\n",
    "Ibp2 = np.zeros(Count.shape[0])\n",
    "for si in range(0,Count.shape[0]):\n",
    "    temp = np.squeeze(Count2[si,:,:])\n",
    "    if np.sum(temp)!=0:\n",
    "        Pjoint = temp/np.sum(temp)  #P(batch,base)\n",
    "        Pb = np.sum(Pjoint,axis=1)  #P(batch)\n",
    "        Pn = np.sum(Pjoint,axis=1)  #P(base)\n",
    "    info = np.zeros(Pjoint.shape)\n",
    "    for ii in range(0,info.shape[0]):\n",
    "        for jj in range(0,info.shape[1]):\n",
    "            info[ii,jj] = Pjoint[ii,jj]*np.log2(Pjoint[ii,jj]/(Pb[ii]*Pn[jj]))\n",
    "    Ibp2[si] = np.nansum(info)  #mutual information I(batch,base)"
   ]
  },
  {
   "cell_type": "code",
   "execution_count": 29,
   "metadata": {},
   "outputs": [
    {
     "data": {
      "text/plain": [
       "<matplotlib.legend.Legend at 0x114e61f98>"
      ]
     },
     "execution_count": 29,
     "metadata": {},
     "output_type": "execute_result"
    },
    {
     "data": {
      "image/png": "[encoded data removed]",
      "text/plain": [
       "<matplotlib.figure.Figure at 0x114cbcd30>"
      ]
     },
     "metadata": {},
     "output_type": "display_data"
    }
   ],
   "source": [
    "plt.plot(Ibp,label='data')\n",
    "plt.plot(Ibp2,'--',label='shuffle')\n",
    "plt.xlabel('site')\n",
    "plt.ylabel('mutual information (I(batch,base) in bits)')\n",
    "plt.legend(loc='center left', bbox_to_anchor=(1, 0.5))"
   ]
  }
 ],
 "metadata": {
  "anaconda-cloud": {},
  "kernelspec": {
   "display_name": "Python [anaconda]",
   "language": "python",
   "name": "Python [anaconda]"
  },
  "language_info": {
   "codemirror_mode": {
    "name": "ipython",
    "version": 3
   },
   "file_extension": ".py",
   "mimetype": "text/x-python",
   "name": "python",
   "nbconvert_exporter": "python",
   "pygments_lexer": "ipython3",
   "version": "3.5.2"
  }
 },
 "nbformat": 4,
 "nbformat_minor": 2
}
