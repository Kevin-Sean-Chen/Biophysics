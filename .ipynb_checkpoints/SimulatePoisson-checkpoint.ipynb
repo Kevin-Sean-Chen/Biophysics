{
 "cells": [
  {
   "cell_type": "code",
   "execution_count": 1,
   "metadata": {},
   "outputs": [
    {
     "name": "stderr",
     "output_type": "stream",
     "text": [
      "UsageError: Line magic function `%` not found.\n"
     ]
    }
   ],
   "source": [
    "import sys\n",
    "import numpy as np\n",
    "import matplotlib.pyplot as plt\n",
    "import time\n",
    "import math\n",
    "\n",
    "% matplotlib inline"
   ]
  },
  {
   "cell_type": "markdown",
   "metadata": {},
   "source": [
    "## Simulate Poisson process"
   ]
  },
  {
   "cell_type": "code",
   "execution_count": 43,
   "metadata": {},
   "outputs": [],
   "source": [
    "###numerical\n",
    "T = 1000  #seconds\n",
    "dt = 0.01\n",
    "rate = 10 #evetents per second\n",
    "threshold = 1 - rate*dt;  #change threshold to fix event rate\n",
    "timeseries = np.random.rand(int(T/dt))\n",
    "timeseries[timeseries>threshold] = 1\n",
    "timeseries[timeseries<=threshold] = 0\n",
    "\n",
    "###analytical\n",
    "Ns = np.linspace(0,30,30,dtype = int)\n",
    "Pn = np.array([np.exp(-rate)*rate**nn/math.factorial(nn) for nn in Ns])"
   ]
  },
  {
   "cell_type": "code",
   "execution_count": 44,
   "metadata": {},
   "outputs": [],
   "source": [
    "tau = 1  #in seconds\n",
    "window = int(tau/dt)\n",
    "samples = np.array([timeseries[tt:tt+window] for tt in range(0,len(timeseries)-window)])\n",
    "samp_rate = np.sum(samples,axis=1)/tau"
   ]
  },
  {
   "cell_type": "code",
   "execution_count": 45,
   "metadata": {},
   "outputs": [
    {
     "data": {
      "text/plain": [
       "Text(0, 0.5, 'probability')"
      ]
     },
     "execution_count": 45,
     "metadata": {},
     "output_type": "execute_result"
    },
    {
     "data": {
      "image/png": "[encoded data removed]",
      "text/plain": [
       "<Figure size 432x288 with 1 Axes>"
      ]
     },
     "metadata": {
      "needs_background": "light"
     },
     "output_type": "display_data"
    }
   ],
   "source": [
    "plt.hist(samp_rate,normed=True);\n",
    "#plt.hold(True)\n",
    "plt.plot(Pn,label='analytic')\n",
    "plt.xlabel('# events')\n",
    "plt.ylabel('probability')"
   ]
  },
  {
   "cell_type": "markdown",
   "metadata": {},
   "source": [
    "### Anaylsis\n",
    "What is the mean count? The variance? \n",
    "\n",
    "Do you have enough data to fill in the whole probability distribution $P_\\tau (n)$ for counting $n$ of events in the window? \n",
    "\n",
    "How do all of these things change as you change $\\tau$? \n",
    "\n",
    "What if you go back and make events with a different average rate? Do your numerical results agree with the theoretical expressions?"
   ]
  },
  {
   "cell_type": "code",
   "execution_count": 47,
   "metadata": {},
   "outputs": [
    {
     "name": "stdout",
     "output_type": "stream",
     "text": [
      "mean= 9.948288288288289\n",
      "variance= 9.282691264237208\n",
      "ground truth= 10\n"
     ]
    }
   ],
   "source": [
    "print('mean=',np.mean(samp_rate))\n",
    "print('variance=',np.var(samp_rate))\n",
    "print('ground truth=',rate)"
   ]
  },
  {
   "cell_type": "code",
   "execution_count": null,
   "metadata": {},
   "outputs": [],
   "source": [
    "###scaling n events"
   ]
  },
  {
   "cell_type": "code",
   "execution_count": null,
   "metadata": {},
   "outputs": [],
   "source": [
    "###changing tau"
   ]
  },
  {
   "cell_type": "code",
   "execution_count": null,
   "metadata": {},
   "outputs": [],
   "source": [
    "###different rate"
   ]
  }
 ],
 "metadata": {
  "kernelspec": {
   "display_name": "Python 3",
   "language": "python",
   "name": "python3"
  }
 },
 "nbformat": 4,
 "nbformat_minor": 2
}
