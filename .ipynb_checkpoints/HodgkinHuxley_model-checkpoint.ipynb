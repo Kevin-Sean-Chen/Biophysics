{
 "cells": [
  {
   "cell_type": "code",
   "execution_count": 1,
   "metadata": {},
   "outputs": [],
   "source": [
    "import sys\n",
    "import numpy as np\n",
    "import matplotlib.pyplot as plt\n",
    "import time\n",
    "import math\n",
    "import itertools\n",
    "import numpy.matlib\n",
    "import re\n",
    "\n",
    "% matplotlib inline"
   ]
  },
  {
   "cell_type": "code",
   "execution_count": 2,
   "metadata": {},
   "outputs": [],
   "source": [
    "#parameters\n",
    "gN = 120 #mmho/cm2\n",
    "gK = 36 #mmho/cm2\n",
    "gL = 0.3 #mmho/cm2\n",
    "VN = 115 #mV\n",
    "VK = -12 #mV\n",
    "VL = 10.613 #mV\n",
    "C = 1 #μF/cm2"
   ]
  },
  {
   "cell_type": "code",
   "execution_count": 3,
   "metadata": {},
   "outputs": [],
   "source": [
    "#initials\n",
    "dt = 0.01\n",
    "t = np.arange(0,50,dt)\n",
    "I = np.zeros(len(t))#+20 #20\n",
    "V = np.zeros(len(t))\n",
    "V[0] = -65 #initialize near resting potential (this could be determined by running it with random inital conditions)\n",
    "n = np.zeros(len(t))\n",
    "m = np.zeros(len(t))\n",
    "h = np.zeros(len(t))"
   ]
  },
  {
   "cell_type": "code",
   "execution_count": 8,
   "metadata": {},
   "outputs": [],
   "source": [
    "#iteration for dynamics\n",
    "for i in range(1,len(t)):\n",
    "    V[i] = V[i-1] + dt*(I[i] - gN*m[i-1]**3*h[i-1]*(V[i-1]-VN) - gK*n[i-1]**4*(V[i-1]-VK) - gL*(V[i-1]-VL))/C\n",
    "    \n",
    "    n[i] = n[i-1] + dt*((1-n[i-1])*(0.01*(-V[i-1]+10)/(np.exp((-V[i-1]+10)/10)-1)) - n[i-1]*(0.125*np.exp(-(V[i-1])/80)))\n",
    "    \n",
    "    m[i] = m[i-1] + dt*((1-m[i-1])*(0.1*(-V[i-1]+25)/(np.exp((-V[i-1]+25)/10)-1)) - m[i-1]*(4*np.exp(-(V[i-1])/18)))\n",
    "    \n",
    "    h[i] = h[i-1] + dt*((1-h[i-1])*(0.07*np.exp(-(V[i-1])/20)) - h[i-1]*(1/(np.exp((-V[i-1]+30)/10)+1)))\n",
    "    "
   ]
  },
  {
   "cell_type": "code",
   "execution_count": 9,
   "metadata": {},
   "outputs": [
    {
     "name": "stdout",
     "output_type": "stream",
     "text": [
      "0.0036435764467397944\n"
     ]
    },
    {
     "data": {
      "image/png": "[encoded data removed]",
      "text/plain": [
       "<matplotlib.figure.Figure at 0x103f4ec88>"
      ]
     },
     "metadata": {},
     "output_type": "display_data"
    }
   ],
   "source": [
    "plt.plot(t,V)\n",
    "plt.xlabel('time (ms)')\n",
    "plt.ylabel('voltage (mV)') \n",
    "print(V[-1])"
   ]
  }
 ],
 "metadata": {
  "anaconda-cloud": {},
  "kernelspec": {
   "display_name": "Python [anaconda]",
   "language": "python",
   "name": "Python [anaconda]"
  },
  "language_info": {
   "codemirror_mode": {
    "name": "ipython",
    "version": 3
   },
   "file_extension": ".py",
   "mimetype": "text/x-python",
   "name": "python",
   "nbconvert_exporter": "python",
   "pygments_lexer": "ipython3",
   "version": "3.5.2"
  }
 },
 "nbformat": 4,
 "nbformat_minor": 2
}
