{
 "cells": [
  {
   "cell_type": "code",
   "execution_count": 1,
   "metadata": {},
   "outputs": [
    {
     "name": "stderr",
     "output_type": "stream",
     "text": [
      "UsageError: Line magic function `%` not found.\n"
     ]
    }
   ],
   "source": [
    "import sys\n",
    "import numpy as np\n",
    "import matplotlib.pyplot as plt\n",
    "import time\n",
    "import math\n",
    "\n",
    "% matplotlib inline"
   ]
  },
  {
   "cell_type": "code",
   "execution_count": 252,
   "metadata": {},
   "outputs": [],
   "source": [
    "#parameters\n",
    "N = 10  #spins\n",
    "W = np.random.randn(N,N)  #Wij\n",
    "theta = 0  #threshold\n",
    "rep = 10000  #length of simulation\n",
    "spins = np.random.choice((-1,1),N)"
   ]
  },
  {
   "cell_type": "code",
   "execution_count": 253,
   "metadata": {},
   "outputs": [],
   "source": [
    "#iterations\n",
    "for r in range(0,rep):\n",
    "    p = np.random.randint(0,N)\n",
    "    h = np.sign(np.sum(W[p]*spins[p])-theta)\n",
    "    spins[p] = h"
   ]
  },
  {
   "cell_type": "code",
   "execution_count": 254,
   "metadata": {},
   "outputs": [
    {
     "data": {
      "text/plain": [
       "[<matplotlib.lines.Line2D at 0x2b716597ca58>]"
      ]
     },
     "execution_count": 254,
     "metadata": {},
     "output_type": "execute_result"
    },
    {
     "data": {
      "image/png": "[encoded data removed]",
      "text/plain": [
       "<Figure size 432x288 with 1 Axes>"
      ]
     },
     "metadata": {
      "needs_background": "light"
     },
     "output_type": "display_data"
    }
   ],
   "source": [
    "#lot spins\n",
    "plt.plot(spins)"
   ]
  },
  {
   "cell_type": "code",
   "execution_count": 255,
   "metadata": {},
   "outputs": [],
   "source": [
    "#memory and patterns\n",
    "Wm = np.zeros((N,N))  #trained weights\n",
    "K = 3  #patterns\n",
    "ww = 1#/K  #normalization constant?\n",
    "patterns = np.zeros((K,N))\n",
    "for k in range(0,K):\n",
    "    eps = np.expand_dims(np.random.choice((-1,1),N),axis=1)#np.expand_dims(np.array(inputs[k]),axis=1) #\n",
    "    patterns[k,:] = np.squeeze(eps)\n",
    "    lesson = eps.T*eps\n",
    "    np.fill_diagonal(lesson,0)\n",
    "    Wm = Wm + ww*lesson"
   ]
  },
  {
   "cell_type": "code",
   "execution_count": 256,
   "metadata": {},
   "outputs": [],
   "source": [
    "#recall\n",
    "# mu = 3\n",
    "# theta = 0  #threshold\n",
    "# rep = 50000  #length of simulation\n",
    "# spins = np.random.randint(0,2,size=N)\n",
    "# spins[spins==0] = -1\n",
    "# for r in range(0,rep):\n",
    "#     p = np.random.randint(0,N)\n",
    "#     h = np.sign(np.sum(Wm[:,p]*spins[p])-theta)\n",
    "#     if h==0:\n",
    "#         temp = np.random.choice((-1,1))\n",
    "#         spins[p] = temp\n",
    "#     else:\n",
    "#         spins[p] = h\n",
    "#     #spins[p] = h"
   ]
  },
  {
   "cell_type": "code",
   "execution_count": 257,
   "metadata": {},
   "outputs": [],
   "source": [
    "##recall\n",
    "probes = 3\n",
    "recalls = np.zeros((probes,N))\n",
    "for p in range(0,probes):\n",
    "    recall = np.random.choice((-1,1),size=N)\n",
    "    res = Wm @ recall\n",
    "    res = np.sign(res)\n",
    "    recalls[p,:] = res"
   ]
  },
  {
   "cell_type": "code",
   "execution_count": 261,
   "metadata": {},
   "outputs": [
    {
     "data": {
      "text/plain": [
       "([], <a list of 0 Text yticklabel objects>)"
      ]
     },
     "execution_count": 261,
     "metadata": {},
     "output_type": "execute_result"
    },
    {
     "data": {
      "image/png": "[encoded data removed]",
      "text/plain": [
       "<Figure size 432x288 with 1 Axes>"
      ]
     },
     "metadata": {
      "needs_background": "light"
     },
     "output_type": "display_data"
    },
    {
     "data": {
      "image/png": "[encoded data removed]",
      "text/plain": [
       "<Figure size 432x288 with 1 Axes>"
      ]
     },
     "metadata": {
      "needs_background": "light"
     },
     "output_type": "display_data"
    }
   ],
   "source": [
    "plt.imshow(patterns)\n",
    "plt.yticks([])\n",
    "plt.figure()\n",
    "plt.imshow(recalls)\n",
    "plt.yticks([])"
   ]
  }
 ],
 "metadata": {
  "kernelspec": {
   "display_name": "Python 3",
   "language": "python",
   "name": "python3"
  },
  "language_info": {
   "codemirror_mode": {
    "name": "ipython",
    "version": 3
   },
   "file_extension": ".py",
   "mimetype": "text/x-python",
   "name": "python",
   "nbconvert_exporter": "python",
   "pygments_lexer": "ipython3",
   "version": "3.7.3"
  }
 },
 "nbformat": 4,
 "nbformat_minor": 2
}
