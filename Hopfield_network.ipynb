{
 "cells": [
  {
   "cell_type": "code",
   "execution_count": 1,
   "metadata": {},
   "outputs": [],
   "source": [
    "import sys\n",
    "import numpy as np\n",
    "import matplotlib.pyplot as plt\n",
    "import time\n",
    "import math\n",
    "\n",
    "% matplotlib inline"
   ]
  },
  {
   "cell_type": "markdown",
   "metadata": {},
   "source": [
    "### Spin-glass update rule\n",
    "\n",
    "#### $\\sigma _ { \\mathrm { i } } \\rightarrow \\operatorname { sgn } \\left[ \\sum _ { \\mathrm { j } } W _ { \\mathrm { i }\\mathrm{ j} } \\sigma _ { \\mathrm { j } } - \\theta _ { \\mathrm { i } } \\right]$"
   ]
  },
  {
   "cell_type": "code",
   "execution_count": 2,
   "metadata": {},
   "outputs": [],
   "source": [
    "#parameters\n",
    "N = 10  #spins\n",
    "W = np.random.randn(N,N)  #Wij\n",
    "theta = 0  #threshold\n",
    "spins = np.random.choice((-1,1),N)"
   ]
  },
  {
   "cell_type": "code",
   "execution_count": 3,
   "metadata": {},
   "outputs": [],
   "source": [
    "#iterations\n",
    "rep = 10000  #length of simulation\n",
    "for r in range(0,rep):\n",
    "    p = np.random.randint(0,N)\n",
    "    h = np.sign(np.sum(W[:,p]*spins[p])-theta)\n",
    "    spins[p] = h"
   ]
  },
  {
   "cell_type": "code",
   "execution_count": 4,
   "metadata": {},
   "outputs": [
    {
     "data": {
      "text/plain": [
       "[<matplotlib.lines.Line2D at 0x10e7fa9b0>]"
      ]
     },
     "execution_count": 4,
     "metadata": {},
     "output_type": "execute_result"
    },
    {
     "data": {
      "image/png": "[encoded data removed]",
      "text/plain": [
       "<matplotlib.figure.Figure at 0x10e7994a8>"
      ]
     },
     "metadata": {},
     "output_type": "display_data"
    }
   ],
   "source": [
    "#lot spins\n",
    "plt.plot(spins)"
   ]
  },
  {
   "cell_type": "markdown",
   "metadata": {},
   "source": [
    "### Hopfield model\n",
    "\n",
    "Energy function with memory patterns written in: \n",
    "\n",
    "#### $E = - \\frac { W } { 2 } \\sum _ { \\mathrm { ij } } \\sigma _ { \\mathrm { i } } \\left[ \\sum _ { \\mu = 1 } ^ { K } \\xi _ { \\mathrm { i } } ^ { ( \\mu ) } \\xi _ { \\mathrm { j } } ^ { ( \\mu ) } \\right] \\sigma _ { \\mathrm { j } } = - \\frac { W } { 2 } \\sum _ { \\mu = 1 } ^ { K } \\left( \\xi ^ { ( \\mu ) } \\cdot \\sigma \\right) ^ { 2 }$"
   ]
  },
  {
   "cell_type": "code",
   "execution_count": 312,
   "metadata": {},
   "outputs": [],
   "source": [
    "#memory and patterns\n",
    "N = 10\n",
    "Wm = np.zeros((N,N))  #trained weights\n",
    "K = 3  #patterns\n",
    "ww = 1  #normalization constant?\n",
    "patterns = np.zeros((K,N))\n",
    "for k in range(0,K):\n",
    "    eps = np.expand_dims(np.random.choice((-1,1),N),axis=1)#np.expand_dims(np.array(inputs[k]),axis=1) #\n",
    "    patterns[k,:] = np.squeeze(eps)\n",
    "    #lesson = eps.T*eps\n",
    "    #np.fill_diagonal(lesson,0)\n",
    "    #Wm = Wm + ww*lesson\n",
    "    for i in range(len(eps)):\n",
    "        for j in range(i,len(eps)):\n",
    "            if i == j:\n",
    "                Wm[i,j] = 0\n",
    "            else:\n",
    "                Wm[i,j] = ww*eps[i]*eps[j]\n",
    "                Wm[j,i] = Wm[i,j]\n"
   ]
  },
  {
   "cell_type": "code",
   "execution_count": 31,
   "metadata": {},
   "outputs": [],
   "source": [
    "#recall\n",
    "# mu = 3\n",
    "# theta = 0  #threshold\n",
    "# rep = 50000  #length of simulation\n",
    "# spins = np.random.randint(0,2,size=N)\n",
    "# spins[spins==0] = -1\n",
    "# for r in range(0,rep):\n",
    "#     p = np.random.randint(0,N)\n",
    "#     h = np.sign(np.sum(Wm[:,p]*spins[p])-theta)\n",
    "#     if h==0:\n",
    "#         temp = np.random.choice((-1,1))\n",
    "#         spins[p] = temp\n",
    "#     else:\n",
    "#         spins[p] = h\n",
    "#     #spins[p] = h"
   ]
  },
  {
   "cell_type": "code",
   "execution_count": 313,
   "metadata": {},
   "outputs": [],
   "source": [
    "##recall\n",
    "###synchronous update\n",
    "probes = 5\n",
    "recalls = np.zeros((probes,N))\n",
    "for p in range(0,probes):\n",
    "    recall = np.random.choice((-1,1),size=N)\n",
    "    res = Wm @ recall\n",
    "    res = np.sign(res-theta)\n",
    "    recalls[p,:] = res"
   ]
  },
  {
   "cell_type": "code",
   "execution_count": 321,
   "metadata": {},
   "outputs": [],
   "source": [
    "###asynchronous update\n",
    "probes = 1\n",
    "recalls = np.zeros((probes,N))\n",
    "for pp in range(0,probes):\n",
    "    spins = patterns[2,:]#np.random.choice((-1,1),N)  #start with random or a given pattern (stable)\n",
    "    for r in range(0,rep):\n",
    "        p = np.random.randint(0,N)\n",
    "        h = np.sign(np.sum(W[:,p]*spins[p])-theta)\n",
    "        spins[p] = h\n",
    "    recalls[pp,:] = spins"
   ]
  },
  {
   "cell_type": "code",
   "execution_count": 322,
   "metadata": {},
   "outputs": [
    {
     "data": {
      "text/plain": [
       "([], <a list of 0 Text yticklabel objects>)"
      ]
     },
     "execution_count": 322,
     "metadata": {},
     "output_type": "execute_result"
    },
    {
     "data": {
      "image/png": "[encoded data removed]",
      "text/plain": [
       "<matplotlib.figure.Figure at 0x110f7b4e0>"
      ]
     },
     "metadata": {},
     "output_type": "display_data"
    },
    {
     "data": {
      "image/png": "[encoded data removed]",
      "text/plain": [
       "<matplotlib.figure.Figure at 0x110f7b6a0>"
      ]
     },
     "metadata": {},
     "output_type": "display_data"
    }
   ],
   "source": [
    "plt.imshow(patterns,interpolation='None')\n",
    "plt.title('stored patterns')\n",
    "plt.yticks([])\n",
    "plt.figure()\n",
    "plt.title('recall')\n",
    "plt.imshow(recalls,interpolation='None')\n",
    "plt.yticks([])"
   ]
  },
  {
   "cell_type": "markdown",
   "metadata": {},
   "source": [
    "### Recall measure\n",
    "\n",
    "$m _ { s } = \\max _ { \\mu } \\frac { 1 } { N } \\left| \\xi ^ { ( \\mu ) } \\cdot \\sigma _ { s } \\right|$"
   ]
  },
  {
   "cell_type": "code",
   "execution_count": 323,
   "metadata": {},
   "outputs": [],
   "source": [
    "def ms(patterns,recall):\n",
    "    \"\"\"\n",
    "    return the max of normalized dot product between trained and recalled pattern\n",
    "    \"\"\"\n",
    "    dots = np.zeros(patterns.shape[0])  #number of patterns stored\n",
    "    nn = patterns.shape[1]  #number of neurons in the model\n",
    "    for m in range(0,patterns.shape[0]):\n",
    "        dots[m] = np.abs(np.dot(patterns[m,:],recall))\n",
    "    return np.max(dots)/nn #(patterns.shape[0]*patterns.shape[1])"
   ]
  },
  {
   "cell_type": "code",
   "execution_count": 324,
   "metadata": {},
   "outputs": [],
   "source": [
    "def Hopfield(K,N):\n",
    "    \"\"\"\n",
    "    Hopfield network with N neurons and trained with K random spin patterns,\n",
    "    The output is one recall pattern starting from a random initial condition and the actualy patterns\n",
    "    \"\"\"\n",
    "    ###training  #with N neurons and K patterns\n",
    "    theta = 0\n",
    "    ww = 1/N #normalization constant?\n",
    "    Wm = np.zeros((N,N))  #trained weights\n",
    "    patterns = np.zeros((K,N))  #stored patterns\n",
    "    for k in range(0,K):\n",
    "        eps = np.expand_dims(np.random.choice((-1,1),N),axis=1)\n",
    "        patterns[k,:] = np.squeeze(eps)\n",
    "        for i in range(len(eps)):\n",
    "            for j in range(i,len(eps)):\n",
    "                if i == j:\n",
    "                    Wm[i,j] = 0\n",
    "                else:\n",
    "                    Wm[i,j] = ww*eps[i]*eps[j]\n",
    "                    Wm[j,i] = Wm[i,j]\n",
    "    ###recall\n",
    "#     spins = np.random.choice((-1,1),N)\n",
    "#     res = np.dot(Wm, spins)\n",
    "#     recall = np.sign(res-theta)\n",
    "\n",
    "    recall = np.random.choice((-1,1),N)\n",
    "    rep = 500  #repeat simulation of random updates\n",
    "    for r in range(0,rep):\n",
    "        p = np.random.randint(0,N)\n",
    "        h = np.sign(np.sum(Wm[:,p]*recall[p])-theta)\n",
    "        recall[p] = h\n",
    "    return patterns, recall"
   ]
  },
  {
   "cell_type": "code",
   "execution_count": 305,
   "metadata": {},
   "outputs": [
    {
     "data": {
      "text/plain": [
       "0.026"
      ]
     },
     "execution_count": 305,
     "metadata": {},
     "output_type": "execute_result"
    }
   ],
   "source": [
    "N=2000\n",
    "ms((np.random.choice((-1,1),10*N)).reshape(10,N), np.random.choice((-1,1),N))"
   ]
  },
  {
   "cell_type": "code",
   "execution_count": 325,
   "metadata": {},
   "outputs": [],
   "source": [
    "N = 20\n",
    "R = 5\n",
    "mss = np.zeros((10,R))\n",
    "for kk in range(0,mss.shape[0]):  #scan through number of patterns\n",
    "    for rr in range(0,mss.shape[1]):  #repeat the simulation\n",
    "        patterns, recall = Hopfield(kk+1,N)\n",
    "        mss[kk,rr] = ms(patterns,recall)"
   ]
  },
  {
   "cell_type": "code",
   "execution_count": 326,
   "metadata": {},
   "outputs": [
    {
     "data": {
      "image/png": "[encoded data removed]",
      "text/plain": [
       "<matplotlib.figure.Figure at 0x111339ac8>"
      ]
     },
     "metadata": {},
     "output_type": "display_data"
    }
   ],
   "source": [
    "plt.plot(mss,'-o');"
   ]
  },
  {
   "cell_type": "code",
   "execution_count": 152,
   "metadata": {},
   "outputs": [
    {
     "data": {
      "text/plain": [
       "[<matplotlib.lines.Line2D at 0x114c9ecc0>]"
      ]
     },
     "execution_count": 152,
     "metadata": {},
     "output_type": "execute_result"
    },
    {
     "data": {
      "image/png": "[encoded data removed]",
      "text/plain": [
       "<matplotlib.figure.Figure at 0x114b49d68>"
      ]
     },
     "metadata": {},
     "output_type": "display_data"
    }
   ],
   "source": [
    "nn = np.arange(1,100,1)\n",
    "temp = []\n",
    "for ii in nn:\n",
    "    temp1 = np.random.choice((-1,1),ii)\n",
    "    temp2 = np.random.choice((-1,1),ii)\n",
    "    temp.append(np.abs(np.dot(temp1,temp2)/ii))\n",
    "plt.plot(temp)"
   ]
  },
  {
   "cell_type": "markdown",
   "metadata": {},
   "source": [
    "### Thermodynamic limit\n"
   ]
  },
  {
   "cell_type": "code",
   "execution_count": null,
   "metadata": {},
   "outputs": [],
   "source": []
  }
 ],
 "metadata": {
  "kernelspec": {
   "display_name": "Python [anaconda]",
   "language": "python",
   "name": "Python [anaconda]"
  },
  "language_info": {
   "codemirror_mode": {
    "name": "ipython",
    "version": 3
   },
   "file_extension": ".py",
   "mimetype": "text/x-python",
   "name": "python",
   "nbconvert_exporter": "python",
   "pygments_lexer": "ipython3",
   "version": "3.5.2"
  }
 },
 "nbformat": 4,
 "nbformat_minor": 2
}
