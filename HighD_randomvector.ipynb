{
 "cells": [
  {
   "cell_type": "code",
   "execution_count": 1,
   "metadata": {},
   "outputs": [],
   "source": [
    "import sys\n",
    "import numpy as np\n",
    "import matplotlib.pyplot as plt\n",
    "import time\n",
    "import math\n",
    "\n",
    "% matplotlib inline"
   ]
  },
  {
   "cell_type": "markdown",
   "metadata": {},
   "source": [
    "## Random vector $cos$ angle and its distribution\n",
    "\n",
    "### $\\cos \\phi \\equiv \\frac { 1 } { N } \\mathbf { v } ^ { ( 1 ) } \\cdot \\mathbf { v } ^ { ( 2 ) }$\n",
    "\n",
    "### $P ( z = \\cos \\phi ) = \\int \\frac { d k } { 2 \\pi } e ^ { - i k z } [ \\cos ( k / N ) ] ^ { N }$"
   ]
  },
  {
   "cell_type": "code",
   "execution_count": 14,
   "metadata": {},
   "outputs": [
    {
     "data": {
      "image/png": "[encoded data removed]",
      "text/plain": [
       "<matplotlib.figure.Figure at 0x112061278>"
      ]
     },
     "metadata": {},
     "output_type": "display_data"
    }
   ],
   "source": [
    "N = 100\n",
    "rep = 10000\n",
    "\n",
    "samps = np.zeros(rep)\n",
    "for r in range(rep):\n",
    "    v1 = np.random.choice([-1,1],N)\n",
    "    v2 = np.random.choice([-1,1],N)\n",
    "    samps[r] = np.dot(v1,v2)/N\n",
    "    \n",
    "plt.hist(samps/sum(samps),bins=50);"
   ]
  },
  {
   "cell_type": "code",
   "execution_count": 15,
   "metadata": {},
   "outputs": [
    {
     "name": "stdout",
     "output_type": "stream",
     "text": [
      "<cos_phi> 0.00025599999999999977\n",
      "<cos^2_phi> 0.10000407223708442\n"
     ]
    }
   ],
   "source": [
    "print('<cos_phi>', np.mean(samps))\n",
    "print('<cos^2_phi>',np.std(samps))"
   ]
  },
  {
   "cell_type": "markdown",
   "metadata": {},
   "source": [
    "## Scaling with N spins"
   ]
  },
  {
   "cell_type": "code",
   "execution_count": 19,
   "metadata": {},
   "outputs": [],
   "source": [
    "Ns = np.arange(2,500,20)\n",
    "c2 = np.zeros(len(Ns))\n",
    "rep = 100\n",
    "\n",
    "for ni,nn in enumerate(Ns):\n",
    "    samps = np.zeros(rep)\n",
    "    for r in range(rep):\n",
    "        v1 = np.random.choice([-1,1],nn)\n",
    "        v2 = np.random.choice([-1,1],nn)\n",
    "        samps[r] = np.dot(v1,v2)/nn\n",
    "\n",
    "    c2[ni] = np.std(samps)"
   ]
  },
  {
   "cell_type": "code",
   "execution_count": 21,
   "metadata": {},
   "outputs": [
    {
     "data": {
      "text/plain": [
       "<matplotlib.text.Text at 0x111ea1710>"
      ]
     },
     "execution_count": 21,
     "metadata": {},
     "output_type": "execute_result"
    },
    {
     "data": {
      "image/png": "[encoded data removed]",
      "text/plain": [
       "<matplotlib.figure.Figure at 0x111ea6390>"
      ]
     },
     "metadata": {},
     "output_type": "display_data"
    }
   ],
   "source": [
    "plt.plot(c2)\n",
    "plt.ylabel('cos^2')\n",
    "plt.xlabel('N')"
   ]
  }
 ],
 "metadata": {
  "anaconda-cloud": {},
  "kernelspec": {
   "display_name": "Python [anaconda]",
   "language": "python",
   "name": "Python [anaconda]"
  },
  "language_info": {
   "codemirror_mode": {
    "name": "ipython",
    "version": 3
   },
   "file_extension": ".py",
   "mimetype": "text/x-python",
   "name": "python",
   "nbconvert_exporter": "python",
   "pygments_lexer": "ipython3",
   "version": "3.5.2"
  }
 },
 "nbformat": 4,
 "nbformat_minor": 2
}
